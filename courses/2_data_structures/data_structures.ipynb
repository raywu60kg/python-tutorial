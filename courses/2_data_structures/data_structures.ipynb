{
 "cells": [
  {
   "cell_type": "markdown",
   "metadata": {},
   "source": [
    "# Data Structures\n",
    "python has four kind of default data Structurs.\n",
    "\n",
    "- list\n",
    "- tuple\n",
    "- set\n",
    "- dictionary"
   ]
  },
  {
   "cell_type": "markdown",
   "metadata": {},
   "source": [
    "## list\n",
    "Lists are used to store multiple items in a single variable."
   ]
  },
  {
   "cell_type": "code",
   "execution_count": null,
   "metadata": {},
   "outputs": [],
   "source": [
    "# list format\n",
    "my_list = [1,2,3]\n",
    "print(type(my_list)) #<class 'list'>\n",
    "\n",
    "# get element by index \n",
    "print(my_list[0]) #1\n",
    "print(my_list[1]) #2\n",
    "print(my_list[2]) #3\n",
    "print(my_list[3]) #IndexError: list index out of range\n",
    "\n",
    "# get multi-element\n",
    "print(my_list[0:2]) #[1,2]\n",
    "\n",
    "# list update by index\n",
    "my_list[1] = 4\n",
    "print(my_list) #[1,4,3]\n",
    "\n",
    "# multi-update\n",
    "my_list[0:2] = [5,6]\n",
    "print(my_list) #[5,6,3]\n",
    "\n",
    "# concate\n",
    "print([1,2]+[3,4]) #[1,2,3,4]\n",
    "\n",
    "# get length\n",
    "print(len([1,2,3])) #3\n",
    "\n",
    "# multi-dimension\n",
    "my_2d_list= [[1,2,3],[4,5,6]]\n",
    "print(len(my_2d_list)) #2\n",
    "print(len(my_2d_list[0])) #3\n",
    "print(len(my_2d_list[1])) #3\n",
    "\n",
    "print(my_2d_list[0][0]) #1\n",
    "print(my_2d_list[1][2]) #6\n",
    "\n",
    "my_2d_list[0][0:2] = [4,5]\n",
    "print(my_2d_list) #[[4,5,3],[4,5,6]]\n",
    "\n"
   ]
  },
  {
   "cell_type": "markdown",
   "metadata": {},
   "source": [
    "## tuple\n",
    "Tuples are used to store multiple items in a single variable.\n",
    "A tuple is a collection which is ordered and unchangeable. \n",
    "But tuple can be the key for dictionary and set."
   ]
  },
  {
   "cell_type": "code",
   "execution_count": null,
   "metadata": {},
   "outputs": [],
   "source": [
    "# tuple format\n",
    "my_tuple = (1,2,3)\n",
    "print(type(my_tuple)) #<class 'tuple'>\n",
    "\n",
    "# get element by index \n",
    "print(my_tuple[0]) #1\n",
    "\n",
    "# get multi-element\n",
    "print(my_tuple[0:2]) #[1,2]\n",
    "\n",
    "# tuple update by index\n",
    "my_tuple[1] = 4 #TypeError: 'tuple' object does not support item assignment\n",
    "\n",
    "# multi-update\n",
    "my_tuple[0:2] = [5,6] #TypeError: 'tuple' object does not support item assignment\n",
    "\n",
    "# concate\n",
    "print((1,2)+(3,4)) #(1,2,3,4)\n",
    "\n",
    "# get length\n",
    "print(len((1,2,3))) #3\n",
    "\n",
    "# multi-dimension\n",
    "my_2d_list= ((1,2,3),(4,5,6))\n",
    "print(len(my_2d_list)) #2\n",
    "print(len(my_2d_list[0])) #3\n",
    "print(len(my_2d_list[1])) #3\n",
    "\n",
    "print(my_2d_list[0][0]) #1\n",
    "print(my_2d_list[1][2]) #6"
   ]
  },
  {
   "cell_type": "markdown",
   "metadata": {},
   "source": [
    "## Set\n",
    "A set is a collection which is unordered, unindexed and no duplicates element."
   ]
  },
  {
   "cell_type": "code",
   "execution_count": 3,
   "metadata": {},
   "outputs": [
    {
     "name": "stdout",
     "output_type": "stream",
     "text": [
      "<class 'set'>\n"
     ]
    }
   ],
   "source": [
    "## Set\n",
    "my_set = {1,2,3}\n",
    "print(type(my_set)) #<class 'set'>\n",
    "\n",
    "# no duplicates\n",
    "my_set = {1,1,2,3}\n",
    "print(my_set) #{1,2,3}\n",
    "\n",
    "# exist\n",
    "print(1 in my_set) #True\n",
    "print(4 in my_set) #False\n",
    "print(4 not in my_set) #True\n",
    "print(1 not in my_set) #False\n",
    "\n",
    "# add\n",
    "my_set.add(4)\n",
    "print(my_set) #{1,2,3,4}\n",
    "\n",
    "# remove\n",
    "my_set.remove(4)\n",
    "print(my_set) #{1,2,3}\n",
    "\n",
    "# intersetion\n",
    "print({1,2,3}&{2,3,4}) #{2,3}\n",
    "\n",
    "# union\n",
    "print({1,2,3}|{2,3,4}) #{2,3}\n",
    "\n"
   ]
  },
  {
   "cell_type": "markdown",
   "metadata": {},
   "source": [
    "## dictionary\n",
    "Dictionaries are used to store data values in key:value pairs.\n",
    "\n",
    "A dictionary is a collection which is unordered, changeable and do not allow duplicates."
   ]
  },
  {
   "cell_type": "code",
   "execution_count": 6,
   "metadata": {},
   "outputs": [
    {
     "name": "stdout",
     "output_type": "stream",
     "text": [
      "<class 'dict'>\n"
     ]
    }
   ],
   "source": [
    "# format\n",
    "my_dict = {1:4,2:5,3:6}\n",
    "print(type(my_dict)) #<class 'dict'>\n",
    "\n",
    "# no duplicates\n",
    "print({1:4,2:5,3:6,3:9}) #{1: 4, 2: 5, 3: 9}\n",
    "\n",
    "# get value\n",
    "print(my_dict[1]) #4\n",
    "print(my_dict[2]) #5\n",
    "print(my_dict[3]) #6\n",
    "\n",
    "# exist\n",
    "print(1 in my_dict) #True\n",
    "print(4 in my_dict) #False\n",
    "print(4 not in my_dict) #True\n",
    "print(1 not in my_dict) #False\n",
    "\n",
    "# add\n",
    "my_dict[4]=7\n",
    "print(my_dict) #{1:4,2:5,3:6,4:7}\n",
    "my_dict.update({5:8})\n",
    "print(my_dict) #{1:4,2:5,3:6,4:7,5:8}\n",
    "\n",
    "# remove\n",
    "my_dict.pop(5)\n",
    "print(my_dict) #{1:4,2:5,3:6,4:7}\n",
    "del my_dict[4]\n",
    "print(my_dict) #{1:4,2:5,3:6}"
   ]
  },
  {
   "cell_type": "code",
   "execution_count": null,
   "metadata": {},
   "outputs": [],
   "source": []
  }
 ],
 "metadata": {
  "interpreter": {
   "hash": "976f3c910ebe56d4ce63275fe221caf6824a77ccfbd1fff7511d7364e2be52e5"
  },
  "kernelspec": {
   "display_name": "Python 3.9.6 ('python-tutorial-bryKZMYV-py3.9')",
   "language": "python",
   "name": "python3"
  },
  "language_info": {
   "codemirror_mode": {
    "name": "ipython",
    "version": 3
   },
   "file_extension": ".py",
   "mimetype": "text/x-python",
   "name": "python",
   "nbconvert_exporter": "python",
   "pygments_lexer": "ipython3",
   "version": "3.9.6"
  },
  "orig_nbformat": 4
 },
 "nbformat": 4,
 "nbformat_minor": 2
}
