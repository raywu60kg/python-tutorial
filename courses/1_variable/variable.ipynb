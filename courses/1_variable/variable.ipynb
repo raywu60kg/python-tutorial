{
 "cells": [
  {
   "cell_type": "markdown",
   "metadata": {},
   "source": [
    "# Variable\n",
    "Python has four types of variable by default. which are *bool*, *int*, *float* and *str*.  This course is going to show you what are them and some basic operations we can do."
   ]
  },
  {
   "cell_type": "markdown",
   "metadata": {},
   "source": [
    "## Type\n",
    "We can use the python default function **type** to check the variable type."
   ]
  },
  {
   "cell_type": "markdown",
   "metadata": {},
   "source": [
    "\n",
    "\n",
    "### bool\n",
    "Boolean(True or False)\n",
    "\n",
    "### int\n",
    "Integer number\n",
    "\n",
    "### float\n",
    "Floating number\n",
    "\n",
    "### str \n",
    "String\n",
    "\n"
   ]
  },
  {
   "cell_type": "code",
   "execution_count": null,
   "metadata": {},
   "outputs": [],
   "source": [
    "# bool\n",
    "my_bool_variable1 = True \n",
    "print(type(my_bool_variable1)) #<class 'bool'>\n",
    "\n",
    "my_bool_variable2 = False\n",
    "print(type(my_bool_variable2)) #<class 'bool'>\n",
    "\n",
    "# int\n",
    "my_int_variable1 = 0\n",
    "print(type(my_bool_variable1)) #<class 'int'>\n",
    "\n",
    "my_int_variable2 = 1\n",
    "print(type(my_bool_variable2)) #<class 'int'>\n",
    "\n",
    "# float\n",
    "my_float_variable1 = 1.1\n",
    "print(type(my_float_variable1)) #<class 'float'>\n",
    "\n",
    "# string\n",
    "my_string_variable1 = \"my_string\"\n",
    "print(type(my_string_variable1)) #<class 'str'>"
   ]
  },
  {
   "cell_type": "markdown",
   "metadata": {},
   "source": [
    "## Operations\n"
   ]
  },
  {
   "cell_type": "markdown",
   "metadata": {},
   "source": [
    "### Boolean Operations\n",
    "|Operator|Description|\n",
    "|---|---|\n",
    "|and|Return True if both statements are true|\n",
    "|or|Return True if one of the statements is true|\n",
    "|not|Reverse the result, returns False if the result is true|"
   ]
  },
  {
   "cell_type": "code",
   "execution_count": null,
   "metadata": {},
   "outputs": [],
   "source": [
    "# and \n",
    "print(True and True) #True\n",
    "print(True and False) #False\n",
    "print(False and False) #False\n",
    "\n",
    "# or \n",
    "print(True or True) #True\n",
    "print(True or False) #True\n",
    "print(False or False) #False\n",
    "\n",
    "# not\n",
    "print(not True) #False\n",
    "print(not False) #True"
   ]
  },
  {
   "cell_type": "markdown",
   "metadata": {},
   "source": [
    "\n",
    "### Nmber Operations "
   ]
  },
  {
   "cell_type": "code",
   "execution_count": null,
   "metadata": {},
   "outputs": [],
   "source": [
    "a = 3\n",
    "b = 2\n",
    "\n",
    "# addition\n",
    "print(a+b) #5\n",
    "\n",
    "# subtraction\n",
    "print(a-b) #1\n",
    "\n",
    "# multiplication\n",
    "print(a*b) #6\n",
    "\n",
    "# division\n",
    "print(a/b) #1.5\n",
    "\n",
    "# mod\n",
    "print(a%b) #1\n",
    "\n",
    "# exponentiation\n",
    "print(a**b) #9\n",
    "\n"
   ]
  },
  {
   "cell_type": "markdown",
   "metadata": {},
   "source": [
    "### String Operations"
   ]
  },
  {
   "cell_type": "code",
   "execution_count": null,
   "metadata": {},
   "outputs": [],
   "source": [
    "my_string1 = \"Hello\"\n",
    "my_string2 = \"World\"\n",
    "\n",
    "# concate\n",
    "print(my_string1+my_string2) #HelloWorld\n",
    "\n",
    "# replication\n",
    "print(my_string1*3) #HelloHelloHello\n",
    "\n",
    "# indexing\n",
    "print(my_string1[0]) #H\n",
    "print(my_string1[1]) #e\n",
    "print(my_string1[:3]) #Hel\n",
    "print(my_string1[1:3]) #el"
   ]
  },
  {
   "cell_type": "markdown",
   "metadata": {},
   "source": [
    "## Pop quiz"
   ]
  },
  {
   "cell_type": "code",
   "execution_count": null,
   "metadata": {},
   "outputs": [],
   "source": [
    "# What is the output of folling print\n",
    "print(type(3/1))\n",
    "print(type(\"123\"))\n",
    "\n",
    "print(True and False and True)\n",
    "print(True or False and True)\n",
    "\n",
    "print((2+3)**2)\n",
    "print(2+3**2)\n",
    "print(3%10)\n",
    "\n",
    "my_string = \"Hello\"\n",
    "print(my_string1[-1])\n",
    "print(my_string+\"world\"*2)\n",
    "print(my_string1[-2:])"
   ]
  }
 ],
 "metadata": {
  "interpreter": {
   "hash": "31f2aee4e71d21fbe5cf8b01ff0e069b9275f58929596ceb00d14d90e3e16cd6"
  },
  "kernelspec": {
   "display_name": "Python 3.8.10 64-bit",
   "language": "python",
   "name": "python3"
  },
  "language_info": {
   "name": "python",
   "version": "3.8.10"
  },
  "orig_nbformat": 4
 },
 "nbformat": 4,
 "nbformat_minor": 2
}
